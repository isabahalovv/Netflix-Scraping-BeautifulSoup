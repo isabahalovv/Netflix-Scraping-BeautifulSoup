{
 "cells": [
  {
   "cell_type": "code",
   "execution_count": 1,
   "id": "82591068",
   "metadata": {},
   "outputs": [],
   "source": [
    "import requests\n",
    "from bs4 import BeautifulSoup as bs\n",
    "import pandas as pd"
   ]
  },
  {
   "cell_type": "markdown",
   "id": "80fb2e70",
   "metadata": {},
   "source": [
    "## Scraping Links"
   ]
  },
  {
   "cell_type": "code",
   "execution_count": 55,
   "id": "36cf782b",
   "metadata": {},
   "outputs": [],
   "source": [
    "url = 'https://www.netflix.com/az/browse/genre/34399'\n",
    "request = requests.get(url).content\n",
    "soup = bs(request, 'html.parser')\n",
    "\n",
    "a = soup.find_all('a', {'class':'nm-collections-title nm-collections-link'})\n",
    "\n",
    "links = [x['href'] for x in a]"
   ]
  },
  {
   "cell_type": "markdown",
   "id": "9bb9a40d",
   "metadata": {},
   "source": [
    "## Scraping Website"
   ]
  },
  {
   "cell_type": "code",
   "execution_count": 68,
   "id": "a3d52e40",
   "metadata": {},
   "outputs": [],
   "source": [
    "names = []\n",
    "released_years = []\n",
    "age_limits = []\n",
    "durations = []\n",
    "types = []\n",
    "stars = []\n",
    "\n",
    "for link in links:\n",
    "    request = requests.get(link).content\n",
    "    soup = bs(request, 'html.parser')\n",
    "    \n",
    "    try:\n",
    "        name = soup.find('h1', {'class':'title-title'}).string\n",
    "        released_year = soup.find('span', {'class':'title-info-metadata-item item-year'}).string\n",
    "        age_limit = soup.find('span', {'class':'maturity-rating'}).string\n",
    "        duration = soup.find('span', {'class':'duration'}).string\n",
    "        type_ = soup.find('a', {'class':'title-info-metadata-item item-genre'}).string\n",
    "        star = soup.find('span', {'class':'title-data-info-item-list'}).string\n",
    "    \n",
    "        names.append(name)\n",
    "        released_years.append(released_year)\n",
    "        age_limits.append(age_limit)\n",
    "        durations.append(duration)\n",
    "        types.append(type_)\n",
    "        stars.append(star)\n",
    "    except:\n",
    "        continue"
   ]
  },
  {
   "cell_type": "markdown",
   "id": "56e96626",
   "metadata": {},
   "source": [
    "## Saving to csv file"
   ]
  },
  {
   "cell_type": "code",
   "execution_count": 71,
   "id": "6777803e",
   "metadata": {},
   "outputs": [],
   "source": [
    "df = pd.DataFrame({'Name':names, 'Released Year':released_years, 'Age limit':age_limits,\n",
    "                   'Duration':durations, 'Type':types, 'Stars':stars})"
   ]
  },
  {
   "cell_type": "code",
   "execution_count": 73,
   "id": "e8e34519",
   "metadata": {},
   "outputs": [],
   "source": [
    "df.to_csv('Netflix.csv', index=False)"
   ]
  }
 ],
 "metadata": {
  "kernelspec": {
   "display_name": "Python 3 (ipykernel)",
   "language": "python",
   "name": "python3"
  },
  "language_info": {
   "codemirror_mode": {
    "name": "ipython",
    "version": 3
   },
   "file_extension": ".py",
   "mimetype": "text/x-python",
   "name": "python",
   "nbconvert_exporter": "python",
   "pygments_lexer": "ipython3",
   "version": "3.10.7"
  }
 },
 "nbformat": 4,
 "nbformat_minor": 5
}
